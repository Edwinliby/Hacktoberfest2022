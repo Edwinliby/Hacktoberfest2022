{
 "cells": [
  {
   "cell_type": "code",
   "execution_count": 1,
   "metadata": {},
   "outputs": [],
   "source": [
    "import pandas as pd\n",
    "import matplotlib.pyplot as plt\n",
    "import tensorflow as tf\n",
    "from tensorflow.keras.layers import Dense\n",
    "from tensorflow.keras.models import Sequential\n",
    "from sklearn.preprocessing import MinMaxScaler\n",
    "import seaborn as sns"
   ]
  },
  {
   "cell_type": "code",
   "execution_count": 2,
   "metadata": {},
   "outputs": [],
   "source": [
    "phy_dev=tf.config.list_physical_devices('GPU')\n",
    "tf.config.experimental.set_memory_growth(phy_dev[0],True)"
   ]
  },
  {
   "cell_type": "code",
   "execution_count": 3,
   "metadata": {},
   "outputs": [
    {
     "data": {
      "text/html": [
       "<div>\n",
       "<style scoped>\n",
       "    .dataframe tbody tr th:only-of-type {\n",
       "        vertical-align: middle;\n",
       "    }\n",
       "\n",
       "    .dataframe tbody tr th {\n",
       "        vertical-align: top;\n",
       "    }\n",
       "\n",
       "    .dataframe thead th {\n",
       "        text-align: right;\n",
       "    }\n",
       "</style>\n",
       "<table border=\"1\" class=\"dataframe\">\n",
       "  <thead>\n",
       "    <tr style=\"text-align: right;\">\n",
       "      <th></th>\n",
       "      <th>male</th>\n",
       "      <th>age</th>\n",
       "      <th>education</th>\n",
       "      <th>currentSmoker</th>\n",
       "      <th>cigsPerDay</th>\n",
       "      <th>BPMeds</th>\n",
       "      <th>prevalentStroke</th>\n",
       "      <th>prevalentHyp</th>\n",
       "      <th>diabetes</th>\n",
       "      <th>totChol</th>\n",
       "      <th>sysBP</th>\n",
       "      <th>diaBP</th>\n",
       "      <th>BMI</th>\n",
       "      <th>heartRate</th>\n",
       "      <th>glucose</th>\n",
       "      <th>TenYearCHD</th>\n",
       "    </tr>\n",
       "  </thead>\n",
       "  <tbody>\n",
       "    <tr>\n",
       "      <th>0</th>\n",
       "      <td>1</td>\n",
       "      <td>39</td>\n",
       "      <td>4.0</td>\n",
       "      <td>0</td>\n",
       "      <td>0.0</td>\n",
       "      <td>0.0</td>\n",
       "      <td>0</td>\n",
       "      <td>0</td>\n",
       "      <td>0</td>\n",
       "      <td>195.0</td>\n",
       "      <td>106.0</td>\n",
       "      <td>70.0</td>\n",
       "      <td>26.97</td>\n",
       "      <td>80.0</td>\n",
       "      <td>77.0</td>\n",
       "      <td>0</td>\n",
       "    </tr>\n",
       "    <tr>\n",
       "      <th>1</th>\n",
       "      <td>0</td>\n",
       "      <td>46</td>\n",
       "      <td>2.0</td>\n",
       "      <td>0</td>\n",
       "      <td>0.0</td>\n",
       "      <td>0.0</td>\n",
       "      <td>0</td>\n",
       "      <td>0</td>\n",
       "      <td>0</td>\n",
       "      <td>250.0</td>\n",
       "      <td>121.0</td>\n",
       "      <td>81.0</td>\n",
       "      <td>28.73</td>\n",
       "      <td>95.0</td>\n",
       "      <td>76.0</td>\n",
       "      <td>0</td>\n",
       "    </tr>\n",
       "    <tr>\n",
       "      <th>2</th>\n",
       "      <td>1</td>\n",
       "      <td>48</td>\n",
       "      <td>1.0</td>\n",
       "      <td>1</td>\n",
       "      <td>20.0</td>\n",
       "      <td>0.0</td>\n",
       "      <td>0</td>\n",
       "      <td>0</td>\n",
       "      <td>0</td>\n",
       "      <td>245.0</td>\n",
       "      <td>127.5</td>\n",
       "      <td>80.0</td>\n",
       "      <td>25.34</td>\n",
       "      <td>75.0</td>\n",
       "      <td>70.0</td>\n",
       "      <td>0</td>\n",
       "    </tr>\n",
       "    <tr>\n",
       "      <th>3</th>\n",
       "      <td>0</td>\n",
       "      <td>61</td>\n",
       "      <td>3.0</td>\n",
       "      <td>1</td>\n",
       "      <td>30.0</td>\n",
       "      <td>0.0</td>\n",
       "      <td>0</td>\n",
       "      <td>1</td>\n",
       "      <td>0</td>\n",
       "      <td>225.0</td>\n",
       "      <td>150.0</td>\n",
       "      <td>95.0</td>\n",
       "      <td>28.58</td>\n",
       "      <td>65.0</td>\n",
       "      <td>103.0</td>\n",
       "      <td>1</td>\n",
       "    </tr>\n",
       "    <tr>\n",
       "      <th>4</th>\n",
       "      <td>0</td>\n",
       "      <td>46</td>\n",
       "      <td>3.0</td>\n",
       "      <td>1</td>\n",
       "      <td>23.0</td>\n",
       "      <td>0.0</td>\n",
       "      <td>0</td>\n",
       "      <td>0</td>\n",
       "      <td>0</td>\n",
       "      <td>285.0</td>\n",
       "      <td>130.0</td>\n",
       "      <td>84.0</td>\n",
       "      <td>23.10</td>\n",
       "      <td>85.0</td>\n",
       "      <td>85.0</td>\n",
       "      <td>0</td>\n",
       "    </tr>\n",
       "  </tbody>\n",
       "</table>\n",
       "</div>"
      ],
      "text/plain": [
       "   male  age  education  currentSmoker  cigsPerDay  BPMeds  prevalentStroke  \\\n",
       "0     1   39        4.0              0         0.0     0.0                0   \n",
       "1     0   46        2.0              0         0.0     0.0                0   \n",
       "2     1   48        1.0              1        20.0     0.0                0   \n",
       "3     0   61        3.0              1        30.0     0.0                0   \n",
       "4     0   46        3.0              1        23.0     0.0                0   \n",
       "\n",
       "   prevalentHyp  diabetes  totChol  sysBP  diaBP    BMI  heartRate  glucose  \\\n",
       "0             0         0    195.0  106.0   70.0  26.97       80.0     77.0   \n",
       "1             0         0    250.0  121.0   81.0  28.73       95.0     76.0   \n",
       "2             0         0    245.0  127.5   80.0  25.34       75.0     70.0   \n",
       "3             1         0    225.0  150.0   95.0  28.58       65.0    103.0   \n",
       "4             0         0    285.0  130.0   84.0  23.10       85.0     85.0   \n",
       "\n",
       "   TenYearCHD  \n",
       "0           0  \n",
       "1           0  \n",
       "2           0  \n",
       "3           1  \n",
       "4           0  "
      ]
     },
     "execution_count": 3,
     "metadata": {},
     "output_type": "execute_result"
    }
   ],
   "source": [
    "df=pd.read_csv(\"framingham_heart_disease.csv\")\n",
    "df.head()"
   ]
  },
  {
   "cell_type": "code",
   "execution_count": 4,
   "metadata": {},
   "outputs": [
    {
     "data": {
      "text/plain": [
       "<AxesSubplot: >"
      ]
     },
     "execution_count": 4,
     "metadata": {},
     "output_type": "execute_result"
    },
    {
     "data": {
      "image/png": "[encoded data removed]",
      "text/plain": [
       "<Figure size 640x480 with 2 Axes>"
      ]
     },
     "metadata": {},
     "output_type": "display_data"
    }
   ],
   "source": [
    "corr=df.corr()\n",
    "sns.heatmap(corr)"
   ]
  },
  {
   "cell_type": "code",
   "execution_count": 5,
   "metadata": {},
   "outputs": [
    {
     "data": {
      "text/plain": [
       "Index(['male', 'age', 'education', 'currentSmoker', 'cigsPerDay', 'BPMeds',\n",
       "       'prevalentStroke', 'prevalentHyp', 'diabetes', 'totChol', 'sysBP',\n",
       "       'diaBP', 'BMI', 'heartRate', 'glucose', 'TenYearCHD'],\n",
       "      dtype='object')"
      ]
     },
     "execution_count": 5,
     "metadata": {},
     "output_type": "execute_result"
    }
   ],
   "source": [
    "df.columns"
   ]
  },
  {
   "cell_type": "code",
   "execution_count": 6,
   "metadata": {},
   "outputs": [
    {
     "data": {
      "text/plain": [
       "male                 0\n",
       "age                  0\n",
       "education          105\n",
       "currentSmoker        0\n",
       "cigsPerDay          29\n",
       "BPMeds              53\n",
       "prevalentStroke      0\n",
       "prevalentHyp         0\n",
       "diabetes             0\n",
       "totChol             50\n",
       "sysBP                0\n",
       "diaBP                0\n",
       "BMI                 19\n",
       "heartRate            1\n",
       "glucose            388\n",
       "TenYearCHD           0\n",
       "dtype: int64"
      ]
     },
     "execution_count": 6,
     "metadata": {},
     "output_type": "execute_result"
    }
   ],
   "source": [
    "df.isnull().sum()"
   ]
  },
  {
   "cell_type": "code",
   "execution_count": 7,
   "metadata": {},
   "outputs": [],
   "source": [
    "# df['BPMeds'].fillna(method=\"ffill\",inplace=True)\n",
    "# df['totChol'].fillna(method=\"ffill\",inplace=True)\n",
    "# df['BMI'].fillna(method=\"ffill\",inplace=True)\n",
    "# df['glucose'].fillna(method=\"ffill\",inplace=True)\n",
    "# df['heartRate'].fillna(method=\"ffill\",inplace=True)"
   ]
  },
  {
   "cell_type": "code",
   "execution_count": 8,
   "metadata": {},
   "outputs": [],
   "source": [
    "df=df.dropna(axis=0)"
   ]
  },
  {
   "cell_type": "code",
   "execution_count": 9,
   "metadata": {},
   "outputs": [
    {
     "data": {
      "text/plain": [
       "male               0\n",
       "age                0\n",
       "education          0\n",
       "currentSmoker      0\n",
       "cigsPerDay         0\n",
       "BPMeds             0\n",
       "prevalentStroke    0\n",
       "prevalentHyp       0\n",
       "diabetes           0\n",
       "totChol            0\n",
       "sysBP              0\n",
       "diaBP              0\n",
       "BMI                0\n",
       "heartRate          0\n",
       "glucose            0\n",
       "TenYearCHD         0\n",
       "dtype: int64"
      ]
     },
     "execution_count": 9,
     "metadata": {},
     "output_type": "execute_result"
    }
   ],
   "source": [
    "df.isnull().sum()"
   ]
  },
  {
   "cell_type": "code",
   "execution_count": 10,
   "metadata": {},
   "outputs": [],
   "source": [
    "X=df.drop(columns=['education', 'currentSmoker', 'cigsPerDay', 'TenYearCHD'])\n",
    "y=df['TenYearCHD']"
   ]
  },
  {
   "cell_type": "code",
   "execution_count": 11,
   "metadata": {},
   "outputs": [],
   "source": [
    "from sklearn.model_selection import train_test_split\n",
    "X_train,X_test,y_train,y_test=train_test_split(X,y,test_size=0.2,random_state=0)"
   ]
  },
  {
   "cell_type": "code",
   "execution_count": 12,
   "metadata": {},
   "outputs": [],
   "source": [
    "model=Sequential([Dense(16,activation=\"relu\"),\n",
    "                  Dense(8,activation=\"relu\"),\n",
    "                  Dense(1,activation=\"sigmoid\")\n",
    "                  ])\n",
    "\n",
    "model.compile(loss=\"binary_crossentropy\",optimizer=\"adam\",metrics=\"accuracy\")"
   ]
  },
  {
   "cell_type": "code",
   "execution_count": 13,
   "metadata": {},
   "outputs": [
    {
     "name": "stdout",
     "output_type": "stream",
     "text": [
      "Epoch 1/100\n",
      "92/92 [==============================] - 5s 22ms/step - loss: 1.8145 - accuracy: 0.7404 - val_loss: 0.9207 - val_accuracy: 0.7705\n",
      "Epoch 2/100\n",
      "92/92 [==============================] - 1s 12ms/step - loss: 0.9018 - accuracy: 0.7753 - val_loss: 0.6303 - val_accuracy: 0.7869\n",
      "Epoch 3/100\n",
      "92/92 [==============================] - 1s 12ms/step - loss: 0.6427 - accuracy: 0.7931 - val_loss: 0.5193 - val_accuracy: 0.8005\n",
      "Epoch 4/100\n",
      "92/92 [==============================] - 1s 11ms/step - loss: 0.5612 - accuracy: 0.7979 - val_loss: 0.4697 - val_accuracy: 0.8197\n",
      "Epoch 5/100\n",
      "92/92 [==============================] - 1s 13ms/step - loss: 0.5028 - accuracy: 0.8119 - val_loss: 0.4640 - val_accuracy: 0.8169\n",
      "Epoch 6/100\n",
      "92/92 [==============================] - 1s 11ms/step - loss: 0.4869 - accuracy: 0.8263 - val_loss: 0.4723 - val_accuracy: 0.8142\n",
      "Epoch 7/100\n",
      "92/92 [==============================] - 1s 8ms/step - loss: 0.4992 - accuracy: 0.8232 - val_loss: 0.4268 - val_accuracy: 0.8361\n",
      "Epoch 8/100\n",
      "92/92 [==============================] - 1s 9ms/step - loss: 0.4604 - accuracy: 0.8290 - val_loss: 0.4355 - val_accuracy: 0.8374\n",
      "Epoch 9/100\n",
      "92/92 [==============================] - 1s 8ms/step - loss: 0.4628 - accuracy: 0.8396 - val_loss: 0.4272 - val_accuracy: 0.8361\n",
      "Epoch 10/100\n",
      "92/92 [==============================] - 1s 16ms/step - loss: 0.4479 - accuracy: 0.8403 - val_loss: 0.4167 - val_accuracy: 0.8402\n",
      "Epoch 11/100\n",
      "92/92 [==============================] - 1s 12ms/step - loss: 0.4519 - accuracy: 0.8389 - val_loss: 0.4097 - val_accuracy: 0.8429\n",
      "Epoch 12/100\n",
      "92/92 [==============================] - 1s 9ms/step - loss: 0.4412 - accuracy: 0.8451 - val_loss: 0.5301 - val_accuracy: 0.7814\n",
      "Epoch 13/100\n",
      "92/92 [==============================] - 1s 9ms/step - loss: 0.4585 - accuracy: 0.8358 - val_loss: 0.4149 - val_accuracy: 0.8415\n",
      "Epoch 14/100\n",
      "92/92 [==============================] - 1s 8ms/step - loss: 0.4391 - accuracy: 0.8451 - val_loss: 0.4697 - val_accuracy: 0.8156\n",
      "Epoch 15/100\n",
      "92/92 [==============================] - 1s 8ms/step - loss: 0.4494 - accuracy: 0.8382 - val_loss: 0.4060 - val_accuracy: 0.8484\n",
      "Epoch 16/100\n",
      "92/92 [==============================] - 1s 14ms/step - loss: 0.4430 - accuracy: 0.8410 - val_loss: 0.4581 - val_accuracy: 0.8511\n",
      "Epoch 17/100\n",
      "92/92 [==============================] - 1s 8ms/step - loss: 0.4338 - accuracy: 0.8403 - val_loss: 0.4170 - val_accuracy: 0.8497\n",
      "Epoch 18/100\n",
      "92/92 [==============================] - 1s 9ms/step - loss: 0.4300 - accuracy: 0.8447 - val_loss: 0.4054 - val_accuracy: 0.8456\n",
      "Epoch 19/100\n",
      "92/92 [==============================] - 1s 9ms/step - loss: 0.4297 - accuracy: 0.8434 - val_loss: 0.4052 - val_accuracy: 0.8470\n",
      "Epoch 20/100\n",
      "92/92 [==============================] - 1s 9ms/step - loss: 0.4357 - accuracy: 0.8417 - val_loss: 0.4000 - val_accuracy: 0.8497\n",
      "Epoch 21/100\n",
      "92/92 [==============================] - 1s 12ms/step - loss: 0.4271 - accuracy: 0.8403 - val_loss: 0.4060 - val_accuracy: 0.8443\n",
      "Epoch 22/100\n",
      "92/92 [==============================] - 2s 19ms/step - loss: 0.4513 - accuracy: 0.8389 - val_loss: 0.4020 - val_accuracy: 0.8470\n",
      "Epoch 23/100\n",
      "92/92 [==============================] - 1s 16ms/step - loss: 0.4303 - accuracy: 0.8369 - val_loss: 0.4901 - val_accuracy: 0.8511\n",
      "Epoch 24/100\n",
      "92/92 [==============================] - 1s 7ms/step - loss: 0.4310 - accuracy: 0.8471 - val_loss: 0.4153 - val_accuracy: 0.8374\n",
      "Epoch 25/100\n",
      "92/92 [==============================] - 1s 7ms/step - loss: 0.4497 - accuracy: 0.8413 - val_loss: 0.5392 - val_accuracy: 0.8511\n",
      "Epoch 26/100\n",
      "92/92 [==============================] - 1s 7ms/step - loss: 0.4401 - accuracy: 0.8403 - val_loss: 0.4120 - val_accuracy: 0.8374\n",
      "Epoch 27/100\n",
      "92/92 [==============================] - 1s 7ms/step - loss: 0.4276 - accuracy: 0.8410 - val_loss: 0.3985 - val_accuracy: 0.8511\n",
      "Epoch 28/100\n",
      "92/92 [==============================] - 1s 7ms/step - loss: 0.4290 - accuracy: 0.8444 - val_loss: 0.4044 - val_accuracy: 0.8443\n",
      "Epoch 29/100\n",
      "92/92 [==============================] - 1s 7ms/step - loss: 0.4240 - accuracy: 0.8434 - val_loss: 0.4109 - val_accuracy: 0.8429\n",
      "Epoch 30/100\n",
      "92/92 [==============================] - 1s 7ms/step - loss: 0.4298 - accuracy: 0.8440 - val_loss: 0.4434 - val_accuracy: 0.8320\n",
      "Epoch 31/100\n",
      "92/92 [==============================] - 1s 7ms/step - loss: 0.4309 - accuracy: 0.8348 - val_loss: 0.3949 - val_accuracy: 0.8511\n",
      "Epoch 32/100\n",
      "92/92 [==============================] - 1s 7ms/step - loss: 0.4164 - accuracy: 0.8464 - val_loss: 0.4203 - val_accuracy: 0.8292\n",
      "Epoch 33/100\n",
      "92/92 [==============================] - 1s 7ms/step - loss: 0.4243 - accuracy: 0.8420 - val_loss: 0.4048 - val_accuracy: 0.8497\n",
      "Epoch 34/100\n",
      "92/92 [==============================] - 1s 13ms/step - loss: 0.4255 - accuracy: 0.8461 - val_loss: 0.3960 - val_accuracy: 0.8497\n",
      "Epoch 35/100\n",
      "92/92 [==============================] - 1s 13ms/step - loss: 0.4359 - accuracy: 0.8362 - val_loss: 0.4204 - val_accuracy: 0.8497\n",
      "Epoch 36/100\n",
      "92/92 [==============================] - 1s 9ms/step - loss: 0.4456 - accuracy: 0.8352 - val_loss: 0.4171 - val_accuracy: 0.8429\n",
      "Epoch 37/100\n",
      "92/92 [==============================] - 1s 12ms/step - loss: 0.4230 - accuracy: 0.8471 - val_loss: 0.3936 - val_accuracy: 0.8497\n",
      "Epoch 38/100\n",
      "92/92 [==============================] - 1s 9ms/step - loss: 0.4228 - accuracy: 0.8393 - val_loss: 0.3992 - val_accuracy: 0.8484\n",
      "Epoch 39/100\n",
      "92/92 [==============================] - 1s 8ms/step - loss: 0.4299 - accuracy: 0.8437 - val_loss: 0.4001 - val_accuracy: 0.8484\n",
      "Epoch 40/100\n",
      "92/92 [==============================] - 1s 9ms/step - loss: 0.4170 - accuracy: 0.8458 - val_loss: 0.5041 - val_accuracy: 0.8511\n",
      "Epoch 41/100\n",
      "92/92 [==============================] - 1s 10ms/step - loss: 0.4334 - accuracy: 0.8362 - val_loss: 0.4565 - val_accuracy: 0.8511\n",
      "Epoch 42/100\n",
      "92/92 [==============================] - 1s 8ms/step - loss: 0.4230 - accuracy: 0.8393 - val_loss: 0.3991 - val_accuracy: 0.8497\n",
      "Epoch 43/100\n",
      "92/92 [==============================] - 1s 8ms/step - loss: 0.4253 - accuracy: 0.8430 - val_loss: 0.3923 - val_accuracy: 0.8497\n",
      "Epoch 44/100\n",
      "92/92 [==============================] - 1s 8ms/step - loss: 0.4197 - accuracy: 0.8423 - val_loss: 0.4595 - val_accuracy: 0.8033\n",
      "Epoch 45/100\n",
      "92/92 [==============================] - 1s 10ms/step - loss: 0.4154 - accuracy: 0.8410 - val_loss: 0.4499 - val_accuracy: 0.8511\n",
      "Epoch 46/100\n",
      "92/92 [==============================] - 1s 11ms/step - loss: 0.4425 - accuracy: 0.8399 - val_loss: 0.3947 - val_accuracy: 0.8456\n",
      "Epoch 47/100\n",
      "92/92 [==============================] - 1s 9ms/step - loss: 0.4178 - accuracy: 0.8417 - val_loss: 0.4012 - val_accuracy: 0.8511\n",
      "Epoch 48/100\n",
      "92/92 [==============================] - 1s 10ms/step - loss: 0.4143 - accuracy: 0.8458 - val_loss: 0.4473 - val_accuracy: 0.8169\n",
      "Epoch 49/100\n",
      "92/92 [==============================] - 1s 8ms/step - loss: 0.4197 - accuracy: 0.8447 - val_loss: 0.4118 - val_accuracy: 0.8525\n",
      "Epoch 50/100\n",
      "92/92 [==============================] - 1s 11ms/step - loss: 0.4300 - accuracy: 0.8427 - val_loss: 0.3969 - val_accuracy: 0.8497\n",
      "Epoch 51/100\n",
      "92/92 [==============================] - 1s 13ms/step - loss: 0.4324 - accuracy: 0.8382 - val_loss: 0.4151 - val_accuracy: 0.8415\n",
      "Epoch 52/100\n",
      "92/92 [==============================] - 1s 9ms/step - loss: 0.4311 - accuracy: 0.8430 - val_loss: 0.3979 - val_accuracy: 0.8511\n",
      "Epoch 53/100\n",
      "92/92 [==============================] - 1s 11ms/step - loss: 0.4223 - accuracy: 0.8434 - val_loss: 0.3941 - val_accuracy: 0.8497\n",
      "Epoch 54/100\n",
      "92/92 [==============================] - 1s 13ms/step - loss: 0.4190 - accuracy: 0.8420 - val_loss: 0.4015 - val_accuracy: 0.8497\n",
      "Epoch 55/100\n",
      "92/92 [==============================] - 1s 8ms/step - loss: 0.4121 - accuracy: 0.8440 - val_loss: 0.4439 - val_accuracy: 0.8525\n",
      "Epoch 56/100\n",
      "92/92 [==============================] - 1s 9ms/step - loss: 0.4128 - accuracy: 0.8430 - val_loss: 0.4098 - val_accuracy: 0.8525\n",
      "Epoch 57/100\n",
      "92/92 [==============================] - 1s 10ms/step - loss: 0.4410 - accuracy: 0.8447 - val_loss: 0.4092 - val_accuracy: 0.8511\n",
      "Epoch 58/100\n",
      "92/92 [==============================] - 1s 9ms/step - loss: 0.4167 - accuracy: 0.8413 - val_loss: 0.3939 - val_accuracy: 0.8497\n",
      "Epoch 59/100\n",
      "92/92 [==============================] - 1s 9ms/step - loss: 0.4154 - accuracy: 0.8379 - val_loss: 0.3956 - val_accuracy: 0.8470\n",
      "Epoch 60/100\n",
      "92/92 [==============================] - 1s 9ms/step - loss: 0.4228 - accuracy: 0.8464 - val_loss: 0.3979 - val_accuracy: 0.8511\n",
      "Epoch 61/100\n",
      "92/92 [==============================] - 1s 11ms/step - loss: 0.4180 - accuracy: 0.8434 - val_loss: 0.4223 - val_accuracy: 0.8347\n",
      "Epoch 62/100\n",
      "92/92 [==============================] - 1s 11ms/step - loss: 0.4146 - accuracy: 0.8393 - val_loss: 0.3900 - val_accuracy: 0.8511\n",
      "Epoch 63/100\n",
      "92/92 [==============================] - 1s 15ms/step - loss: 0.4188 - accuracy: 0.8451 - val_loss: 0.3919 - val_accuracy: 0.8511\n",
      "Epoch 64/100\n",
      "92/92 [==============================] - 1s 9ms/step - loss: 0.4232 - accuracy: 0.8471 - val_loss: 0.3905 - val_accuracy: 0.8497\n",
      "Epoch 65/100\n",
      "92/92 [==============================] - 1s 8ms/step - loss: 0.4248 - accuracy: 0.8454 - val_loss: 0.3957 - val_accuracy: 0.8470\n",
      "Epoch 66/100\n",
      "92/92 [==============================] - 1s 9ms/step - loss: 0.4129 - accuracy: 0.8434 - val_loss: 0.4166 - val_accuracy: 0.8511\n",
      "Epoch 67/100\n",
      "92/92 [==============================] - 1s 8ms/step - loss: 0.4202 - accuracy: 0.8461 - val_loss: 0.3925 - val_accuracy: 0.8497\n",
      "Epoch 68/100\n",
      "92/92 [==============================] - 1s 9ms/step - loss: 0.4108 - accuracy: 0.8434 - val_loss: 0.4094 - val_accuracy: 0.8484\n",
      "Epoch 69/100\n",
      "92/92 [==============================] - 1s 10ms/step - loss: 0.4092 - accuracy: 0.8437 - val_loss: 0.4764 - val_accuracy: 0.7964\n",
      "Epoch 70/100\n",
      "92/92 [==============================] - 1s 9ms/step - loss: 0.4337 - accuracy: 0.8379 - val_loss: 0.3972 - val_accuracy: 0.8497\n",
      "Epoch 71/100\n",
      "92/92 [==============================] - 1s 8ms/step - loss: 0.4209 - accuracy: 0.8406 - val_loss: 0.3971 - val_accuracy: 0.8497\n",
      "Epoch 72/100\n",
      "92/92 [==============================] - 1s 8ms/step - loss: 0.4186 - accuracy: 0.8440 - val_loss: 0.4049 - val_accuracy: 0.8415\n",
      "Epoch 73/100\n",
      "92/92 [==============================] - 1s 8ms/step - loss: 0.4151 - accuracy: 0.8430 - val_loss: 0.5138 - val_accuracy: 0.7746\n",
      "Epoch 74/100\n",
      "92/92 [==============================] - 1s 8ms/step - loss: 0.4145 - accuracy: 0.8444 - val_loss: 0.3932 - val_accuracy: 0.8511\n",
      "Epoch 75/100\n",
      "92/92 [==============================] - 1s 9ms/step - loss: 0.4184 - accuracy: 0.8396 - val_loss: 0.3921 - val_accuracy: 0.8484\n",
      "Epoch 76/100\n",
      "92/92 [==============================] - 1s 9ms/step - loss: 0.4144 - accuracy: 0.8475 - val_loss: 0.3918 - val_accuracy: 0.8484\n",
      "Epoch 77/100\n",
      "92/92 [==============================] - 1s 12ms/step - loss: 0.4098 - accuracy: 0.8420 - val_loss: 0.4013 - val_accuracy: 0.8511\n",
      "Epoch 78/100\n",
      "92/92 [==============================] - 1s 8ms/step - loss: 0.4146 - accuracy: 0.8468 - val_loss: 0.4193 - val_accuracy: 0.8374\n",
      "Epoch 79/100\n",
      "92/92 [==============================] - 1s 7ms/step - loss: 0.4089 - accuracy: 0.8464 - val_loss: 0.3910 - val_accuracy: 0.8484\n",
      "Epoch 80/100\n",
      "92/92 [==============================] - 1s 8ms/step - loss: 0.4096 - accuracy: 0.8458 - val_loss: 0.3916 - val_accuracy: 0.8470\n",
      "Epoch 81/100\n",
      "92/92 [==============================] - 1s 8ms/step - loss: 0.4099 - accuracy: 0.8434 - val_loss: 0.3974 - val_accuracy: 0.8470\n",
      "Epoch 82/100\n",
      "92/92 [==============================] - 1s 8ms/step - loss: 0.4068 - accuracy: 0.8482 - val_loss: 0.3906 - val_accuracy: 0.8484\n",
      "Epoch 83/100\n",
      "92/92 [==============================] - 1s 8ms/step - loss: 0.4056 - accuracy: 0.8434 - val_loss: 0.3958 - val_accuracy: 0.8497\n",
      "Epoch 84/100\n",
      "92/92 [==============================] - 1s 9ms/step - loss: 0.4079 - accuracy: 0.8427 - val_loss: 0.4414 - val_accuracy: 0.8511\n",
      "Epoch 85/100\n",
      "92/92 [==============================] - 1s 9ms/step - loss: 0.4177 - accuracy: 0.8410 - val_loss: 0.3967 - val_accuracy: 0.8497\n",
      "Epoch 86/100\n",
      "92/92 [==============================] - 1s 8ms/step - loss: 0.4082 - accuracy: 0.8461 - val_loss: 0.3951 - val_accuracy: 0.8497\n",
      "Epoch 87/100\n",
      "92/92 [==============================] - 1s 8ms/step - loss: 0.4090 - accuracy: 0.8468 - val_loss: 0.3889 - val_accuracy: 0.8484\n",
      "Epoch 88/100\n",
      "92/92 [==============================] - 1s 9ms/step - loss: 0.4134 - accuracy: 0.8464 - val_loss: 0.4052 - val_accuracy: 0.8470\n",
      "Epoch 89/100\n",
      "92/92 [==============================] - 1s 11ms/step - loss: 0.4179 - accuracy: 0.8423 - val_loss: 0.3921 - val_accuracy: 0.8484\n",
      "Epoch 90/100\n",
      "92/92 [==============================] - 1s 13ms/step - loss: 0.4072 - accuracy: 0.8478 - val_loss: 0.3910 - val_accuracy: 0.8511\n",
      "Epoch 91/100\n",
      "92/92 [==============================] - 1s 11ms/step - loss: 0.4001 - accuracy: 0.8464 - val_loss: 0.3919 - val_accuracy: 0.8497\n",
      "Epoch 92/100\n",
      "92/92 [==============================] - 1s 8ms/step - loss: 0.4061 - accuracy: 0.8451 - val_loss: 0.3895 - val_accuracy: 0.8511\n",
      "Epoch 93/100\n",
      "92/92 [==============================] - 1s 7ms/step - loss: 0.4248 - accuracy: 0.8406 - val_loss: 0.3973 - val_accuracy: 0.8497\n",
      "Epoch 94/100\n",
      "92/92 [==============================] - 1s 8ms/step - loss: 0.4184 - accuracy: 0.8417 - val_loss: 0.4092 - val_accuracy: 0.8484\n",
      "Epoch 95/100\n",
      "92/92 [==============================] - 1s 8ms/step - loss: 0.4187 - accuracy: 0.8417 - val_loss: 0.3885 - val_accuracy: 0.8497\n",
      "Epoch 96/100\n",
      "92/92 [==============================] - 1s 8ms/step - loss: 0.4086 - accuracy: 0.8444 - val_loss: 0.3882 - val_accuracy: 0.8525\n",
      "Epoch 97/100\n",
      "92/92 [==============================] - 1s 8ms/step - loss: 0.4085 - accuracy: 0.8471 - val_loss: 0.3906 - val_accuracy: 0.8511\n",
      "Epoch 98/100\n",
      "92/92 [==============================] - 1s 8ms/step - loss: 0.4320 - accuracy: 0.8362 - val_loss: 0.3980 - val_accuracy: 0.8497\n",
      "Epoch 99/100\n",
      "92/92 [==============================] - 1s 11ms/step - loss: 0.4063 - accuracy: 0.8423 - val_loss: 0.4234 - val_accuracy: 0.8511\n",
      "Epoch 100/100\n",
      "92/92 [==============================] - 1s 8ms/step - loss: 0.4015 - accuracy: 0.8454 - val_loss: 0.4313 - val_accuracy: 0.8238\n"
     ]
    },
    {
     "data": {
      "text/plain": [
       "<keras.callbacks.History at 0x2691e0158a0>"
      ]
     },
     "execution_count": 13,
     "metadata": {},
     "output_type": "execute_result"
    }
   ],
   "source": [
    "model.fit(X_train,y_train,epochs=100,validation_data=(X_test,y_test))"
   ]
  },
  {
   "cell_type": "code",
   "execution_count": 14,
   "metadata": {},
   "outputs": [
    {
     "data": {
      "text/plain": [
       "<AxesSubplot: >"
      ]
     },
     "execution_count": 14,
     "metadata": {},
     "output_type": "execute_result"
    },
    {
     "data": {
      "image/png": "[encoded data removed]",
      "text/plain": [
       "<Figure size 640x480 with 1 Axes>"
      ]
     },
     "metadata": {},
     "output_type": "display_data"
    }
   ],
   "source": [
    "pd.DataFrame(model.history.history).plot()"
   ]
  },
  {
   "cell_type": "code",
   "execution_count": 15,
   "metadata": {},
   "outputs": [
    {
     "name": "stdout",
     "output_type": "stream",
     "text": [
      "23/23 [==============================] - 0s 2ms/step\n"
     ]
    }
   ],
   "source": [
    "import numpy as np\n",
    "x_test_predictions = np.argmax(model.predict(X_test), axis=1)"
   ]
  },
  {
   "cell_type": "code",
   "execution_count": 16,
   "metadata": {},
   "outputs": [
    {
     "name": "stdout",
     "output_type": "stream",
     "text": [
      "[[623   0]\n",
      " [109   0]]\n"
     ]
    }
   ],
   "source": [
    "from sklearn.metrics import classification_report,confusion_matrix\n",
    "print(confusion_matrix(y_test,x_test_predictions))"
   ]
  },
  {
   "cell_type": "code",
   "execution_count": 17,
   "metadata": {},
   "outputs": [
    {
     "name": "stdout",
     "output_type": "stream",
     "text": [
      "              precision    recall  f1-score   support\n",
      "\n",
      "           0       0.85      1.00      0.92       623\n",
      "           1       0.00      0.00      0.00       109\n",
      "\n",
      "    accuracy                           0.85       732\n",
      "   macro avg       0.43      0.50      0.46       732\n",
      "weighted avg       0.72      0.85      0.78       732\n",
      "\n"
     ]
    },
    {
     "name": "stderr",
     "output_type": "stream",
     "text": [
      "c:\\Users\\ragav\\AppData\\Local\\Programs\\Python\\Python310\\lib\\site-packages\\sklearn\\metrics\\_classification.py:1334: UndefinedMetricWarning: Precision and F-score are ill-defined and being set to 0.0 in labels with no predicted samples. Use `zero_division` parameter to control this behavior.\n",
      "  _warn_prf(average, modifier, msg_start, len(result))\n",
      "c:\\Users\\ragav\\AppData\\Local\\Programs\\Python\\Python310\\lib\\site-packages\\sklearn\\metrics\\_classification.py:1334: UndefinedMetricWarning: Precision and F-score are ill-defined and being set to 0.0 in labels with no predicted samples. Use `zero_division` parameter to control this behavior.\n",
      "  _warn_prf(average, modifier, msg_start, len(result))\n",
      "c:\\Users\\ragav\\AppData\\Local\\Programs\\Python\\Python310\\lib\\site-packages\\sklearn\\metrics\\_classification.py:1334: UndefinedMetricWarning: Precision and F-score are ill-defined and being set to 0.0 in labels with no predicted samples. Use `zero_division` parameter to control this behavior.\n",
      "  _warn_prf(average, modifier, msg_start, len(result))\n"
     ]
    }
   ],
   "source": [
    "print(classification_report(y_test,x_test_predictions))"
   ]
  },
  {
   "cell_type": "code",
   "execution_count": null,
   "metadata": {},
   "outputs": [],
   "source": []
  }
 ],
 "metadata": {
  "kernelspec": {
   "display_name": "Python 3.10.5 64-bit",
   "language": "python",
   "name": "python3"
  },
  "language_info": {
   "codemirror_mode": {
    "name": "ipython",
    "version": 3
   },
   "file_extension": ".py",
   "mimetype": "text/x-python",
   "name": "python",
   "nbconvert_exporter": "python",
   "pygments_lexer": "ipython3",
   "version": "3.10.5"
  },
  "orig_nbformat": 4,
  "vscode": {
   "interpreter": {
    "hash": "422fde66010521008d0be76fe9d1eb3bf196c4a23f0b2c05b9ae549e1c79a296"
   }
  }
 },
 "nbformat": 4,
 "nbformat_minor": 2
}
